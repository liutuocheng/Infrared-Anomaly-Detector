{
 "cells": [
  {
   "cell_type": "markdown",
   "metadata": {},
   "source": [
    "## Imports"
   ]
  },
  {
   "cell_type": "code",
   "execution_count": 1,
   "metadata": {},
   "outputs": [],
   "source": [
    "import tensorflow as tf\n",
    "import json\n",
    "import numpy as np\n",
    "from google.protobuf.json_format import MessageToJson\n",
    "from utils import visualization_utils as vis_util\n",
    "from utils import label_map_util\n",
    "import base64,os\n"
   ]
  },
  {
   "cell_type": "markdown",
   "metadata": {},
   "source": [
    "## Variables"
   ]
  },
  {
   "cell_type": "code",
   "execution_count": 2,
   "metadata": {},
   "outputs": [
    {
     "name": "stdout",
     "output_type": "stream",
     "text": [
      "Total amount of images:16013\n"
     ]
    }
   ],
   "source": [
    "filename = 'test_data/nb_117neg_fr_2017SB_detections.record'\n",
    "threshold = 0.9 # 0.9 for FasterR-CNN, 0.5 for SSD Mobilenet models, feel free to try other numbers though\n",
    "filtered= True #change to False if the filter rules are not needed\n",
    "\n",
    "\n",
    "#initialize\n",
    "label_list =[]\n",
    "positive_list=[]\n",
    "filtered_list=[]\n",
    "positive_flags=[]\n",
    "filtered_flags=[]\n",
    "detection_list =[]\n",
    "num_images = 0\n",
    "for example in tf.python_io.tf_record_iterator(filename):\n",
    "    num_images = num_images+1\n",
    "print('Total amount of images:'+str(num_images))"
   ]
  },
  {
   "cell_type": "markdown",
   "metadata": {},
   "source": [
    "## Read Inference Record"
   ]
  },
  {
   "cell_type": "code",
   "execution_count": 3,
   "metadata": {},
   "outputs": [],
   "source": [
    "for example in tf.python_io.tf_record_iterator(filename):\n",
    "    result = tf.train.Example.FromString(example);\n",
    "    #uncomment this if images are also packed in the reference record\n",
    "    #feature = result.features.feature\n",
    "    #del feature[standard_fields.TfExampleFields.image_encoded]\n",
    "    \n",
    "    #read the detections\n",
    "    json_str = MessageToJson(result)\n",
    "    dic = json.loads(json_str)['features']['feature']\n",
    "    scores = dic['image/detection/score']['floatList']['value']\n",
    "    label = dic['label']['bytesList']['value']\n",
    "    label = base64.b64decode(label[0]).decode()\n",
    "    ymax = dic['image/detection/bbox/ymax']['floatList']['value']\n",
    "    ymin = dic['image/detection/bbox/ymin']['floatList']['value']\n",
    "    xmax = dic['image/detection/bbox/xmax']['floatList']['value']\n",
    "    xmin = dic['image/detection/bbox/xmin']['floatList']['value']\n",
    "    label_list.append(label)\n",
    "    positive_flags.append(0)\n",
    "    filtered_flags.append(0)\n",
    "    \n",
    "    #filtered list\n",
    "    for i in range(len(scores)):\n",
    "        width = xmax[i]-xmin[i];\n",
    "        height = ymax[i]-ymin[i];\n",
    "        ratio = width/height\n",
    "        centroid_x = (xmax[i]+xmin[i])/2\n",
    "        centroid_y = (ymax[i]+ymin[i])/2\n",
    "        if (scores[i]>threshold \n",
    "        #filter rules\n",
    "        and width<0.5 and width>0.1 \n",
    "        and height<0.5 and height>0.1 \n",
    "        and ratio>0.8 and ratio<2 \n",
    "        and centroid_y>0.3 and centroid_x>0.3):\n",
    "            filtered_list.append(label)\n",
    "            filtered_flags[-1]=1\n",
    "            break;\n",
    "    \n",
    "    #positive list,unfiltered        \n",
    "    for score in scores:\n",
    "        if score > threshold:\n",
    "            positive_list.append(label)\n",
    "            positive_flags[-1]=1\n",
    "            break;\n",
    "    #break;"
   ]
  },
  {
   "cell_type": "code",
   "execution_count": 4,
   "metadata": {},
   "outputs": [
    {
     "name": "stdout",
     "output_type": "stream",
     "text": [
      "1098 images are detected to have higher score than 0.9\n",
      "336 images left after applying the filter rules\n"
     ]
    }
   ],
   "source": [
    "print(str(len(positive_list))+' images are detected to have higher score than '+str(threshold))\n",
    "print(str(len(filtered_list))+' images left after applying the filter rules')"
   ]
  },
  {
   "cell_type": "markdown",
   "metadata": {},
   "source": [
    "### example of inference results of 1 image"
   ]
  },
  {
   "cell_type": "code",
   "execution_count": 5,
   "metadata": {},
   "outputs": [
    {
     "data": {
      "text/plain": [
       "{'image/detection/bbox/ymax': {'floatList': {'value': [0.51754230260849,\n",
       "    0.31532353162765503,\n",
       "    0.44757217168807983,\n",
       "    0.2272406816482544,\n",
       "    0.9750005006790161]}},\n",
       " 'label': {'bytesList': {'value': ['U0JfMTYwNDguanBn']}},\n",
       " 'image/detection/label': {'int64List': {'value': ['1', '1', '1', '1', '1']}},\n",
       " 'image/detection/score': {'floatList': {'value': [0.6873953342437744,\n",
       "    3.5886085214542618e-09,\n",
       "    1.0975215181119324e-10,\n",
       "    2.841788783458643e-11,\n",
       "    4.5363760491079486e-12]}},\n",
       " 'image/detection/bbox/ymin': {'floatList': {'value': [0.4455254077911377,\n",
       "    0.0,\n",
       "    0.3850269913673401,\n",
       "    0.0,\n",
       "    0.7121134996414185]}},\n",
       " 'image/detection/bbox/xmax': {'floatList': {'value': [0.40794500708580017,\n",
       "    0.9847661256790161,\n",
       "    0.1725223958492279,\n",
       "    0.47297611832618713,\n",
       "    0.8780762553215027]}},\n",
       " 'image/detection/bbox/xmin': {'floatList': {'value': [0.3079005181789398,\n",
       "    0.6164631247520447,\n",
       "    0.1285540759563446,\n",
       "    0.04908046871423721,\n",
       "    0.452379047870636]}}}"
      ]
     },
     "execution_count": 5,
     "metadata": {},
     "output_type": "execute_result"
    }
   ],
   "source": [
    "dic"
   ]
  },
  {
   "cell_type": "markdown",
   "metadata": {},
   "source": [
    "## Group up the images in positive/filtered list"
   ]
  },
  {
   "cell_type": "code",
   "execution_count": 6,
   "metadata": {},
   "outputs": [],
   "source": [
    "#check which list to use\n",
    "if filtered==True:\n",
    "    flags=filtered_flags\n",
    "elif filtered==False:\n",
    "    flags=positive_flags\n",
    "\n",
    "#Initialize    \n",
    "result_list=[]\n",
    "status = 0   #0 means normal, 1 means anomaly\n",
    "zero_count = 0\n",
    "one_count = 0\n",
    "start_index = 0\n",
    "end_index = 0\n",
    "buffer = 3   #back to normal if 3 consecutive frames are normal\n",
    "minimum = 3  #filtered out if the group has less than 3 frames\n",
    "\n",
    "for i in range(len(flags)):\n",
    "    if status ==0 and flags[i] == 1:  #start counting\n",
    "        status =1\n",
    "        zero_count = 0\n",
    "        one_count = 1\n",
    "        start_index = i\n",
    "    elif status==1 and flags[i]==0:  #check exit or not\n",
    "        zero_count+=1\n",
    "        if status==1 and zero_count>=buffer:\n",
    "            status = 0\n",
    "            end_index = i-buffer\n",
    "            length = (end_index-start_index+1)\n",
    "            if length >= minimum:\n",
    "                density=one_count/(end_index-start_index+1)\n",
    "                result_list.append([label_list[start_index],label_list[end_index],one_count,density])\n",
    "    elif status==1 and flags[i]==1:  #continue counting\n",
    "        one_count+=1\n",
    "        zero_count=0"
   ]
  },
  {
   "cell_type": "markdown",
   "metadata": {},
   "source": [
    "## Groups of anomaly frames in video order\n"
   ]
  },
  {
   "cell_type": "code",
   "execution_count": 7,
   "metadata": {},
   "outputs": [
    {
     "data": {
      "text/plain": [
       "[['SB_119.jpg', 'SB_123.jpg', 5, 1.0],\n",
       " ['SB_729.jpg', 'SB_732.jpg', 4, 1.0],\n",
       " ['SB_741.jpg', 'SB_746.jpg', 3, 0.5],\n",
       " ['SB_752.jpg', 'SB_755.jpg', 4, 1.0],\n",
       " ['SB_1178.jpg', 'SB_1180.jpg', 2, 0.6666666666666666],\n",
       " ['SB_3677.jpg', 'SB_3686.jpg', 10, 1.0],\n",
       " ['SB_5775.jpg', 'SB_5777.jpg', 2, 0.6666666666666666],\n",
       " ['SB_5851.jpg', 'SB_5856.jpg', 6, 1.0],\n",
       " ['SB_6250.jpg', 'SB_6253.jpg', 2, 0.5],\n",
       " ['SB_6305.jpg', 'SB_6308.jpg', 3, 0.75],\n",
       " ['SB_6360.jpg', 'SB_6368.jpg', 9, 1.0],\n",
       " ['SB_6504.jpg', 'SB_6514.jpg', 11, 1.0],\n",
       " ['SB_7872.jpg', 'SB_7886.jpg', 13, 0.8666666666666667],\n",
       " ['SB_7937.jpg', 'SB_7945.jpg', 9, 1.0],\n",
       " ['SB_8767.jpg', 'SB_8769.jpg', 2, 0.6666666666666666],\n",
       " ['SB_8810.jpg', 'SB_8814.jpg', 4, 0.8],\n",
       " ['SB_8823.jpg', 'SB_8825.jpg', 3, 1.0],\n",
       " ['SB_8836.jpg', 'SB_8839.jpg', 2, 0.5],\n",
       " ['SB_8863.jpg', 'SB_8865.jpg', 3, 1.0],\n",
       " ['SB_8876.jpg', 'SB_8899.jpg', 19, 0.7916666666666666],\n",
       " ['SB_8907.jpg', 'SB_8911.jpg', 3, 0.6],\n",
       " ['SB_9284.jpg', 'SB_9286.jpg', 3, 1.0],\n",
       " ['SB_9371.jpg', 'SB_9374.jpg', 2, 0.5],\n",
       " ['SB_9413.jpg', 'SB_9433.jpg', 19, 0.9047619047619048],\n",
       " ['SB_9456.jpg', 'SB_9458.jpg', 2, 0.6666666666666666],\n",
       " ['SB_9477.jpg', 'SB_9485.jpg', 6, 0.6666666666666666],\n",
       " ['SB_9524.jpg', 'SB_9529.jpg', 3, 0.5],\n",
       " ['SB_9562.jpg', 'SB_9579.jpg', 16, 0.8888888888888888],\n",
       " ['SB_9583.jpg', 'SB_9608.jpg', 16, 0.6153846153846154],\n",
       " ['SB_10398.jpg', 'SB_10405.jpg', 8, 1.0],\n",
       " ['SB_10443.jpg', 'SB_10452.jpg', 10, 1.0],\n",
       " ['SB_10484.jpg', 'SB_10495.jpg', 7, 0.5833333333333334],\n",
       " ['SB_10717.jpg', 'SB_10720.jpg', 4, 1.0],\n",
       " ['SB_12214.jpg', 'SB_12223.jpg', 10, 1.0],\n",
       " ['SB_12554.jpg', 'SB_12560.jpg', 6, 0.8571428571428571],\n",
       " ['SB_12574.jpg', 'SB_12579.jpg', 6, 1.0],\n",
       " ['SB_12627.jpg', 'SB_12633.jpg', 6, 0.8571428571428571],\n",
       " ['SB_12650.jpg', 'SB_12657.jpg', 6, 0.75],\n",
       " ['SB_12724.jpg', 'SB_12733.jpg', 9, 0.9]]"
      ]
     },
     "execution_count": 7,
     "metadata": {},
     "output_type": "execute_result"
    }
   ],
   "source": [
    "#start_frame    end_frame    #of positives    %of positives\n",
    "result_list"
   ]
  },
  {
   "cell_type": "markdown",
   "metadata": {},
   "source": [
    "## Ranked Groups"
   ]
  },
  {
   "cell_type": "code",
   "execution_count": 8,
   "metadata": {},
   "outputs": [
    {
     "data": {
      "text/plain": [
       "[['SB_6504.jpg', 'SB_6514.jpg', 11, 1.0],\n",
       " ['SB_3677.jpg', 'SB_3686.jpg', 10, 1.0],\n",
       " ['SB_10443.jpg', 'SB_10452.jpg', 10, 1.0],\n",
       " ['SB_12214.jpg', 'SB_12223.jpg', 10, 1.0],\n",
       " ['SB_6360.jpg', 'SB_6368.jpg', 9, 1.0],\n",
       " ['SB_7937.jpg', 'SB_7945.jpg', 9, 1.0],\n",
       " ['SB_10398.jpg', 'SB_10405.jpg', 8, 1.0],\n",
       " ['SB_5851.jpg', 'SB_5856.jpg', 6, 1.0],\n",
       " ['SB_12574.jpg', 'SB_12579.jpg', 6, 1.0],\n",
       " ['SB_119.jpg', 'SB_123.jpg', 5, 1.0],\n",
       " ['SB_729.jpg', 'SB_732.jpg', 4, 1.0],\n",
       " ['SB_752.jpg', 'SB_755.jpg', 4, 1.0],\n",
       " ['SB_10717.jpg', 'SB_10720.jpg', 4, 1.0],\n",
       " ['SB_8823.jpg', 'SB_8825.jpg', 3, 1.0],\n",
       " ['SB_8863.jpg', 'SB_8865.jpg', 3, 1.0],\n",
       " ['SB_9284.jpg', 'SB_9286.jpg', 3, 1.0],\n",
       " ['SB_9413.jpg', 'SB_9433.jpg', 19, 0.9047619047619048],\n",
       " ['SB_12724.jpg', 'SB_12733.jpg', 9, 0.9],\n",
       " ['SB_9562.jpg', 'SB_9579.jpg', 16, 0.8888888888888888],\n",
       " ['SB_7872.jpg', 'SB_7886.jpg', 13, 0.8666666666666667],\n",
       " ['SB_12554.jpg', 'SB_12560.jpg', 6, 0.8571428571428571],\n",
       " ['SB_12627.jpg', 'SB_12633.jpg', 6, 0.8571428571428571],\n",
       " ['SB_8810.jpg', 'SB_8814.jpg', 4, 0.8],\n",
       " ['SB_8876.jpg', 'SB_8899.jpg', 19, 0.7916666666666666],\n",
       " ['SB_12650.jpg', 'SB_12657.jpg', 6, 0.75],\n",
       " ['SB_6305.jpg', 'SB_6308.jpg', 3, 0.75],\n",
       " ['SB_9477.jpg', 'SB_9485.jpg', 6, 0.6666666666666666],\n",
       " ['SB_1178.jpg', 'SB_1180.jpg', 2, 0.6666666666666666],\n",
       " ['SB_5775.jpg', 'SB_5777.jpg', 2, 0.6666666666666666],\n",
       " ['SB_8767.jpg', 'SB_8769.jpg', 2, 0.6666666666666666],\n",
       " ['SB_9456.jpg', 'SB_9458.jpg', 2, 0.6666666666666666],\n",
       " ['SB_9583.jpg', 'SB_9608.jpg', 16, 0.6153846153846154],\n",
       " ['SB_8907.jpg', 'SB_8911.jpg', 3, 0.6],\n",
       " ['SB_10484.jpg', 'SB_10495.jpg', 7, 0.5833333333333334],\n",
       " ['SB_741.jpg', 'SB_746.jpg', 3, 0.5],\n",
       " ['SB_9524.jpg', 'SB_9529.jpg', 3, 0.5],\n",
       " ['SB_6250.jpg', 'SB_6253.jpg', 2, 0.5],\n",
       " ['SB_8836.jpg', 'SB_8839.jpg', 2, 0.5],\n",
       " ['SB_9371.jpg', 'SB_9374.jpg', 2, 0.5]]"
      ]
     },
     "execution_count": 8,
     "metadata": {},
     "output_type": "execute_result"
    }
   ],
   "source": [
    "#rank by num of positives and %of positives\n",
    "result_list_sorted = sorted(result_list,key = lambda x: [float(x[3]),int(x[2])],reverse=True)\n",
    "result_list_sorted"
   ]
  },
  {
   "cell_type": "markdown",
   "metadata": {},
   "source": [
    "## Precision & Recall on 2017 Winter SouthBound video"
   ]
  },
  {
   "cell_type": "code",
   "execution_count": 9,
   "metadata": {},
   "outputs": [
    {
     "name": "stdout",
     "output_type": "stream",
     "text": [
      "Precision@39 =0.3076923076923077\n",
      "Recall@39 =0.75\n",
      "\n",
      "back of anomalies included in precision\n",
      "Precision@39 =0.38461538461538464\n",
      "Recall@39 =0.75\n",
      "back_Recall@39 =0.42857142857142855\n"
     ]
    }
   ],
   "source": [
    "k=len(result_list_sorted)\n",
    "#uncomment this to see @10 measures\n",
    "#k=10\n",
    "\n",
    "#these are the frames where each anomaly can be seen clearly\n",
    "#consider true positive if these observed anomaly is presented in one of the groups\n",
    "anomaly_list = sorted([12725,12628,12574,12552,12476,12215,10447,10399,7940,7879,6907,6505,6362,4160,3680,730])\n",
    "anomaly_back_list = sorted([5388,5775,5826,5852,5892,10483,10544])\n",
    "detected_flags = [0]*len(anomaly_list)\n",
    "detected_back_flags = [0]*len(anomaly_back_list)\n",
    "\n",
    "for r in range(k):\n",
    "    result = result_list_sorted[r]\n",
    "    first = label_list.index(result[0])\n",
    "    last = label_list.index(result[1])\n",
    "    #check each frame in anomaly list\n",
    "    for n in range(len(anomaly_list)):\n",
    "        #find if this frame is in the group\n",
    "        if detected_flags[n]==0:\n",
    "            string = 'SB_'+str(anomaly_list[n])+'.jpg'\n",
    "            index = label_list.index(string)\n",
    "            # consider +- 2 frames near the anomaly\n",
    "            num = index-2\n",
    "            count=0\n",
    "            # consider detected if having 2 or more frames overlapping\n",
    "            for i in range(5):\n",
    "                if num+i in range(first,last):\n",
    "                    count = count+1\n",
    "                if count==2:\n",
    "                    detected_flags[n]=1\n",
    "                    break\n",
    "    #check each frame in back of anomaly list                \n",
    "    for n in range(len(anomaly_back_list)):\n",
    "        if detected_back_flags[n]==0:\n",
    "            string = 'SB_'+str(anomaly_back_list[n])+'.jpg'\n",
    "            index = label_list.index(string)\n",
    "            num = index-2\n",
    "            count=0\n",
    "            for i in range(5):\n",
    "                if num+i in range(first,last):\n",
    "                    count = count+1\n",
    "                if count==2:\n",
    "                    detected_back_flags[n]=1\n",
    "                    break\n",
    "print('Precision@'+str(k)+' ='+str(sum(detected_flags)/k))\n",
    "print('Recall@'+str(k)+' ='+str(sum(detected_flags)/len(anomaly_list)))\n",
    "\n",
    "print('\\nback of anomalies included in precision')\n",
    "print('Precision@'+str(k)+' ='+str((sum(detected_flags)+sum(detected_back_flags))/k))\n",
    "print('Recall@'+str(k)+' ='+str(sum(detected_flags)/len(anomaly_list)))\n",
    "print('back_Recall@'+str(k)+' ='+str(sum(detected_back_flags)/len(anomaly_back_list)))"
   ]
  },
  {
   "cell_type": "code",
   "execution_count": 10,
   "metadata": {},
   "outputs": [
    {
     "name": "stdout",
     "output_type": "stream",
     "text": [
      "frame 730 -- detected\n",
      "frame 3680 -- detected\n",
      "frame 4160 -- miss\n",
      "frame 6362 -- detected\n",
      "frame 6505 -- detected\n",
      "frame 6907 -- miss\n",
      "frame 7879 -- detected\n",
      "frame 7940 -- detected\n",
      "frame 10399 -- detected\n",
      "frame 10447 -- detected\n",
      "frame 12215 -- detected\n",
      "frame 12476 -- miss\n",
      "frame 12552 -- miss\n",
      "frame 12574 -- detected\n",
      "frame 12628 -- detected\n",
      "frame 12725 -- detected\n"
     ]
    }
   ],
   "source": [
    "for idx,frame in enumerate(anomaly_list):\n",
    "    if detected_flags[idx]==1:\n",
    "        print('frame '+str(frame)+' -- detected')\n",
    "    else:\n",
    "        print('frame '+str(frame)+' -- miss')"
   ]
  }
 ],
 "metadata": {
  "kernelspec": {
   "display_name": "Python 3",
   "language": "python",
   "name": "python3"
  },
  "language_info": {
   "codemirror_mode": {
    "name": "ipython",
    "version": 3
   },
   "file_extension": ".py",
   "mimetype": "text/x-python",
   "name": "python",
   "nbconvert_exporter": "python",
   "pygments_lexer": "ipython3",
   "version": "3.6.5"
  }
 },
 "nbformat": 4,
 "nbformat_minor": 2
}
