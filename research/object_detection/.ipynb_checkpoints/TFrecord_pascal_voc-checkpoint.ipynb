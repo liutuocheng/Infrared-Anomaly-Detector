{
 "cells": [
  {
   "cell_type": "markdown",
   "metadata": {},
   "source": [
    "### VOC2007 diningtable"
   ]
  },
  {
   "cell_type": "code",
   "execution_count": 1,
   "metadata": {
    "scrolled": true
   },
   "outputs": [
    {
     "name": "stderr",
     "output_type": "stream",
     "text": [
      "C:\\Users\\Tuocheng\\models-master\\research\\object_detection\\utils\\dataset_util.py:75: FutureWarning: The behavior of this method will change in future versions. Use specific 'len(elem)' or 'elem is not None' test instead.\n",
      "  if not xml:\n"
     ]
    }
   ],
   "source": [
    "!python dataset_tools\\create_pascal_tf_record_diningtable.py --data_dir=C:\\VOCdevkit --set=train --output_path=C:\\voc2007_diningtable_train.record"
   ]
  },
  {
   "cell_type": "code",
   "execution_count": 2,
   "metadata": {
    "scrolled": true
   },
   "outputs": [
    {
     "name": "stderr",
     "output_type": "stream",
     "text": [
      "C:\\Users\\Tuocheng\\models-master\\research\\object_detection\\utils\\dataset_util.py:75: FutureWarning: The behavior of this method will change in future versions. Use specific 'len(elem)' or 'elem is not None' test instead.\n",
      "  if not xml:\n"
     ]
    }
   ],
   "source": [
    "!python dataset_tools\\create_pascal_tf_record_diningtable.py --data_dir=C:\\VOCdevkit --set=val --output_path=C:\\voc2007_diningtable_val.record"
   ]
  },
  {
   "cell_type": "markdown",
   "metadata": {},
   "source": [
    "### VOC2007 person"
   ]
  },
  {
   "cell_type": "code",
   "execution_count": 2,
   "metadata": {},
   "outputs": [
    {
     "name": "stderr",
     "output_type": "stream",
     "text": [
      "C:\\Users\\Tuocheng\\models-master\\research\\object_detection\\utils\\dataset_util.py:75: FutureWarning: The behavior of this method will change in future versions. Use specific 'len(elem)' or 'elem is not None' test instead.\n",
      "  if not xml:\n"
     ]
    }
   ],
   "source": [
    "!python dataset_tools\\create_pascal_tf_record_person.py --data_dir=C:\\VOCdevkit --set=train --output_path=C:\\voc2007_person_train.record"
   ]
  },
  {
   "cell_type": "code",
   "execution_count": 3,
   "metadata": {},
   "outputs": [
    {
     "name": "stderr",
     "output_type": "stream",
     "text": [
      "C:\\Users\\Tuocheng\\models-master\\research\\object_detection\\utils\\dataset_util.py:75: FutureWarning: The behavior of this method will change in future versions. Use specific 'len(elem)' or 'elem is not None' test instead.\n",
      "  if not xml:\n"
     ]
    }
   ],
   "source": [
    "!python dataset_tools\\create_pascal_tf_record_person.py --data_dir=C:\\VOCdevkit --set=val --output_path=C:\\voc2007_person_val.record"
   ]
  },
  {
   "cell_type": "markdown",
   "metadata": {},
   "source": [
    "### VOC2007 full dataset"
   ]
  },
  {
   "cell_type": "code",
   "execution_count": 5,
   "metadata": {},
   "outputs": [
    {
     "name": "stderr",
     "output_type": "stream",
     "text": [
      "C:\\Users\\Tuocheng\\models-master\\research\\object_detection\\utils\\dataset_util.py:75: FutureWarning: The behavior of this method will change in future versions. Use specific 'len(elem)' or 'elem is not None' test instead.\n",
      "  if not xml:\n"
     ]
    }
   ],
   "source": [
    "!python dataset_tools\\create_pascal_tf_record_full.py --data_dir=C:\\VOCdevkit --set=train --output_path=C:\\voc2007_full_train.record"
   ]
  },
  {
   "cell_type": "code",
   "execution_count": 6,
   "metadata": {
    "scrolled": true
   },
   "outputs": [
    {
     "name": "stderr",
     "output_type": "stream",
     "text": [
      "C:\\Users\\Tuocheng\\models-master\\research\\object_detection\\utils\\dataset_util.py:75: FutureWarning: The behavior of this method will change in future versions. Use specific 'len(elem)' or 'elem is not None' test instead.\n",
      "  if not xml:\n"
     ]
    }
   ],
   "source": [
    "!python dataset_tools\\create_pascal_tf_record_full.py --data_dir=C:\\VOCdevkit --set=val --output_path=C:\\voc2007_full_vall.record"
   ]
  },
  {
   "cell_type": "markdown",
   "metadata": {},
   "source": [
    "### Vott DATA"
   ]
  },
  {
   "cell_type": "code",
   "execution_count": 2,
   "metadata": {},
   "outputs": [
    {
     "name": "stderr",
     "output_type": "stream",
     "text": [
      "C:\\Users\\Tuocheng\\models-master\\research\\object_detection\\utils\\dataset_util.py:75: FutureWarning: The behavior of this method will change in future versions. Use specific 'len(elem)' or 'elem is not None' test instead.\n",
      "  if not xml:\n"
     ]
    }
   ],
   "source": [
    "!python dataset_tools\\create_pascal_tf_record_VOTT.py --data_dir=D:\\TTC\\rainbow3\\size\\30 --set=val --output_path=D:\\TTC\\rainbow3\\size\\30\\val.record"
   ]
  },
  {
   "cell_type": "code",
   "execution_count": 2,
   "metadata": {},
   "outputs": [
    {
     "name": "stderr",
     "output_type": "stream",
     "text": [
      "C:\\Users\\Tuocheng\\models-master\\research\\object_detection\\utils\\dataset_util.py:75: FutureWarning: The behavior of this method will change in future versions. Use specific 'len(elem)' or 'elem is not None' test instead.\n",
      "  if not xml:\n"
     ]
    }
   ],
   "source": [
    "!python dataset_tools\\create_pascal_tf_record_VOTT.py --data_dir=C:\\rainbow3 --set=val --output_path=C:\\rainbow3_val.record"
   ]
  },
  {
   "cell_type": "code",
   "execution_count": 19,
   "metadata": {},
   "outputs": [
    {
     "name": "stderr",
     "output_type": "stream",
     "text": [
      "Traceback (most recent call last):\n",
      "  File \"dataset_tools\\create_pascal_tf_record_VOTT.py\", line 187, in <module>\n",
      "    tf.app.run()\n",
      "  File \"C:\\Program Files\\Python36\\lib\\site-packages\\tensorflow\\python\\platform\\app.py\", line 126, in run\n",
      "    _sys.exit(main(argv))\n",
      "  File \"dataset_tools\\create_pascal_tf_record_VOTT.py\", line 169, in main\n",
      "    examples_list = dataset_util.read_examples_list(examples_path)\n",
      "  File \"C:\\Users\\Tuocheng\\models-master\\research\\object_detection\\utils\\dataset_util.py\", line 59, in read_examples_list\n",
      "    lines = fid.readlines()\n",
      "  File \"C:\\Program Files\\Python36\\lib\\site-packages\\tensorflow\\python\\lib\\io\\file_io.py\", line 183, in readlines\n",
      "    self._preread_check()\n",
      "  File \"C:\\Program Files\\Python36\\lib\\site-packages\\tensorflow\\python\\lib\\io\\file_io.py\", line 80, in _preread_check\n",
      "    compat.as_bytes(self.__name), 1024 * 512, status)\n",
      "  File \"C:\\Program Files\\Python36\\lib\\site-packages\\tensorflow\\python\\framework\\errors_impl.py\", line 516, in __exit__\n",
      "    c_api.TF_GetCode(self.status.status))\n",
      "tensorflow.python.framework.errors_impl.NotFoundError: NewRandomAccessFile failed to Create/Open: C:\\best_5_output\\VOC2007\\ImageSets\\Main\\anomaly_trainval.txt : The system cannot find the file specified.\n",
      "\n",
      "; No such file or directory\n"
     ]
    }
   ],
   "source": [
    "!python dataset_tools\\create_pascal_tf_record_VOTT.py --data_dir=C:\\best_5_output --set=trainval --output_path=C:\\best5_trainval.record"
   ]
  }
 ],
 "metadata": {
  "kernelspec": {
   "display_name": "Python 3",
   "language": "python",
   "name": "python3"
  },
  "language_info": {
   "codemirror_mode": {
    "name": "ipython",
    "version": 3
   },
   "file_extension": ".py",
   "mimetype": "text/x-python",
   "name": "python",
   "nbconvert_exporter": "python",
   "pygments_lexer": "ipython3",
   "version": "3.6.5"
  }
 },
 "nbformat": 4,
 "nbformat_minor": 2
}
