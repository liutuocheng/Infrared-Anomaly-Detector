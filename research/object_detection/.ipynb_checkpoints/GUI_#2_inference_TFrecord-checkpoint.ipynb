{
 "cells": [
  {
   "cell_type": "markdown",
   "metadata": {},
   "source": [
    "## Step2: Inference\n",
    "\n",
    "input: TFrecord of the images, anomaly detection model ('.pb' file)\n",
    "\n",
    "output: TFrecord of the detections"
   ]
  },
  {
   "cell_type": "markdown",
   "metadata": {},
   "source": [
    "## Note\n",
    "This notebook runs the inference/infer_detections.py script in a subprocess.\n",
    "\n",
    "The output in subprocess will be displayed after the inference is done.\n",
    "\n",
    "Please be patient or run the script in Command Line to monitor the inference process."
   ]
  },
  {
   "cell_type": "code",
   "execution_count": 1,
   "metadata": {},
   "outputs": [
    {
     "data": {
      "text/plain": [
       "''"
      ]
     },
     "execution_count": 1,
     "metadata": {},
     "output_type": "execute_result"
    }
   ],
   "source": [
    "from tkinter import *\n",
    "import tkinter.filedialog\n",
    "import tkinter.messagebox\n",
    "import subprocess,threading\n",
    "\n",
    "root = Tk()\n",
    "root.minsize(480,320)\n",
    "root.title('Inference')"
   ]
  },
  {
   "cell_type": "code",
   "execution_count": 2,
   "metadata": {},
   "outputs": [],
   "source": [
    "image_dir = ''\n",
    "input_tfrecord = ''\n",
    "inference_graph = ''\n",
    "script_dir = 'inference/infer_detections.py'\n",
    "destination = ''\n",
    "output_prefix = ''"
   ]
  },
  {
   "cell_type": "code",
   "execution_count": 3,
   "metadata": {},
   "outputs": [],
   "source": [
    "\n",
    "args = ['python', script_dir, '--input_tfrecord_paths=', '--output_tfrecord_path=', '--inference_graph=']"
   ]
  },
  {
   "cell_type": "code",
   "execution_count": 4,
   "metadata": {},
   "outputs": [],
   "source": [
    "def askdestination():\n",
    "    global destination\n",
    "    destination = tkinter.filedialog.askdirectory()\n",
    "    entry_3.configure(text=destination)\n",
    "\n",
    "def askinput():\n",
    "    global input_tfrecord\n",
    "    input_tfrecord = tkinter.filedialog.askopenfilename()\n",
    "    entry_1.configure(text=input_tfrecord)\n",
    "    \n",
    "def askgraph():\n",
    "    global inference_graph\n",
    "    inference_graph = tkinter.filedialog.askopenfilename()\n",
    "    entry_2.configure(text=inference_graph)\n",
    "\n",
    "def infer():\n",
    "    t.insert(END,'Please wait a while...Do not close'+'\\n')\n",
    "    t.insert(END,'FasterR-CNN takes about 1 min to infer 1000 frames on GTX1080Ti...'+'\\n')\n",
    "    t.insert(END,'Inference time can be much longer on CPU'+'\\n')\n",
    "    t.insert(END,'A dialog will pop up when finished'+'\\n')\n",
    "    p = subprocess.Popen(args,shell =True,stdout=subprocess.PIPE,stderr=subprocess.PIPE)\n",
    "    out, err = p.communicate()\n",
    "    out = out.decode(\"ascii\",errors=\"ignore\")\n",
    "    err = err.decode(\"ascii\",errors=\"ignore\")\n",
    "    for line in out.splitlines():\n",
    "            t.insert(END,line+'\\n')\n",
    "    for line in err.splitlines():\n",
    "            t.insert(END,line+'\\n')\n",
    "    if p.returncode==0:\n",
    "        tkinter.messagebox.showinfo('Success','TFrecord is created!')\n",
    "    else:\n",
    "        tkinter.messagebox.showerror('Error','TFrecord is not created. Please check.')\n",
    "    p.terminate()\n",
    "    \n",
    "    \n",
    "    \n",
    "def inference_button():\n",
    "    t.delete(1.0,END)\n",
    "    global output_prefix\n",
    "    global args\n",
    "    output_prefix=entry_4.get()\n",
    "    if input_tfrecord==''or destination=='':\n",
    "        tkinter.messagebox.showwarning('Alert','Please select source and destination directory.')\n",
    "    elif not inference_graph.endswith('.pb'):\n",
    "        tkinter.messagebox.showwarning('Alert','Please select model.')\n",
    "    elif output_prefix=='':\n",
    "        tkinter.messagebox.showwarning('Alert','Please specify output prefix')\n",
    "    else:\n",
    "        args[2]='--input_tfrecord_paths='+input_tfrecord\n",
    "        args[3]='--output_tfrecord_path='+destination+'/'+output_prefix+'_inference.record'\n",
    "        args[4]='--inference_graph='+inference_graph\n",
    "        threading.Thread(target=infer).start()\n",
    "        \n",
    "    \n",
    "    \n",
    "label_1=Label(root,text = 'Images Record: ')\n",
    "label_2=Label(root,text = 'Inference Model: ')\n",
    "label_3=Label(root,text = 'Destination: ')\n",
    "label_4=Label(root,text = 'Output Prefix: ')\n",
    "entry_1=Label(root,text = 'not selected',bg='White')\n",
    "entry_2=Label(root,text = 'not selected',bg='White')\n",
    "entry_3=Label(root,text = 'not selected',bg='White')\n",
    "entry_4=Entry(root,bg = 'White')\n",
    "button_1=Button(root,text='Browse',command= askinput)\n",
    "button_2=Button(root,text='Browse',command= askgraph)\n",
    "button_3=Button(root,text='Browse',command= askdestination)\n",
    "button_4=Button(root,text='Inference',command= inference_button)\n",
    "\n",
    "label_1.grid(row=0,sticky=E)\n",
    "label_2.grid(row=1,sticky=E)\n",
    "label_3.grid(row=2,sticky=E)\n",
    "label_4.grid(row=3,sticky=E)\n",
    "entry_1.grid(row=0,column=1)\n",
    "entry_2.grid(row=1,column=1)\n",
    "entry_3.grid(row=2,column=1)\n",
    "entry_4.grid(row=3,column=1)\n",
    "button_1.grid(row=0,column=2)\n",
    "button_2.grid(row=1,column=2)\n",
    "button_3.grid(row=2,column=2)\n",
    "button_4.grid(row=3,column=2)\n",
    "t = Text(root,bg='White')\n",
    "t.grid(row=5,column=0,columnspan=3)\n"
   ]
  },
  {
   "cell_type": "code",
   "execution_count": null,
   "metadata": {},
   "outputs": [],
   "source": [
    "root.mainloop()"
   ]
  }
 ],
 "metadata": {
  "kernelspec": {
   "display_name": "Python 3",
   "language": "python",
   "name": "python3"
  },
  "language_info": {
   "codemirror_mode": {
    "name": "ipython",
    "version": 3
   },
   "file_extension": ".py",
   "mimetype": "text/x-python",
   "name": "python",
   "nbconvert_exporter": "python",
   "pygments_lexer": "ipython3",
   "version": "3.6.5"
  }
 },
 "nbformat": 4,
 "nbformat_minor": 2
}
