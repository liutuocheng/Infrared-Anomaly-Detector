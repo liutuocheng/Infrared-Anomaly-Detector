{
 "cells": [
  {
   "cell_type": "markdown",
   "metadata": {},
   "source": [
    "## Convert VoTT tagged dataset to TFrecord\n",
    "\n",
    "input: dataset tagged in VoTT, exported in Pascal VOC format\n",
    "\n",
    "output: a TFrecord can be used for training\n",
    "\n",
    "note that VoTT will automatically split train and eval set\n",
    "\n",
    "the script will pack both lists into the TFrecord "
   ]
  },
  {
   "cell_type": "code",
   "execution_count": null,
   "metadata": {},
   "outputs": [],
   "source": []
  },
  {
   "cell_type": "code",
   "execution_count": 1,
   "metadata": {},
   "outputs": [
    {
     "data": {
      "text/plain": [
       "''"
      ]
     },
     "execution_count": 1,
     "metadata": {},
     "output_type": "execute_result"
    }
   ],
   "source": [
    "from tkinter import *\n",
    "import tkinter.filedialog\n",
    "import tkinter.messagebox\n",
    "import subprocess\n",
    "\n",
    "root = Tk()\n",
    "root.minsize(480,320)\n",
    "root.title('Convert Pascal dataset to TFrecord')"
   ]
  },
  {
   "cell_type": "code",
   "execution_count": 2,
   "metadata": {},
   "outputs": [],
   "source": [
    "dataset_dir = ''\n",
    "script_dir = 'dataset_tools/create_pascal_tf_record_VOTT_Copy.py'\n",
    "destination = ''\n",
    "tfrecord_name=''"
   ]
  },
  {
   "cell_type": "code",
   "execution_count": 3,
   "metadata": {},
   "outputs": [],
   "source": [
    "args = ['python', script_dir, '--data_dir=', '--set=trainval', '--output_path=']"
   ]
  },
  {
   "cell_type": "code",
   "execution_count": 4,
   "metadata": {},
   "outputs": [],
   "source": [
    "def askdestination():\n",
    "    global destination\n",
    "    destination = tkinter.filedialog.askdirectory()\n",
    "    entry_3.configure(text=destination)\n",
    "\n",
    "def askdirectory():\n",
    "    global dataset_dir\n",
    "    dataset_dir = tkinter.filedialog.askdirectory()\n",
    "    entry_1.configure(text=dataset_dir)\n",
    "    \n",
    "def convert():\n",
    "    t.delete(1.0,END)\n",
    "    global tfrecord_name\n",
    "    tfrecord_name=entry_4.get()\n",
    "    if dataset_dir==''or destination=='':\n",
    "        tkinter.messagebox.showwarning('Alert','Please select source and destination directory.')\n",
    "    elif not tfrecord_name.endswith('.record'):\n",
    "        tkinter.messagebox.showwarning('Alert','Filename must end with \".record\" ')\n",
    "    else:\n",
    "        args[2]='--data_dir='+dataset_dir\n",
    "        args[4]='--output_path='+destination+'/'+tfrecord_name\n",
    "        p = subprocess.Popen(args,shell =True,stdout=subprocess.PIPE,stderr=subprocess.PIPE)\n",
    "        out, err = p.communicate()\n",
    "        out = out.decode(\"ascii\",errors=\"ignore\")\n",
    "        err = err.decode(\"ascii\",errors=\"ignore\")\n",
    "        for line in out.splitlines():\n",
    "                t.insert(END,line+'\\n')\n",
    "        for line in err.splitlines():\n",
    "                t.insert(END,line+'\\n')\n",
    "        if p.returncode==0:\n",
    "            tkinter.messagebox.showinfo('Success','TFrecord is created!')\n",
    "        else:\n",
    "            tkinter.messagebox.showerror('Error','TFrecord is not created. Please check.')\n",
    "        p.terminate()\n",
    "    \n",
    "    \n",
    "label_1=Label(root,text = 'Labeled Dataset: ')\n",
    "label_2=Label(root,text = 'Convert by: ')\n",
    "label_3=Label(root,text = 'Destination: ')\n",
    "label_4=Label(root,text = 'File name: ')\n",
    "entry_1=Label(root,text = 'not selected',bg='White')\n",
    "entry_2=Label(root,text = script_dir)\n",
    "entry_3=Label(root,text = 'not selected',bg='White')\n",
    "entry_4=Entry(root,bg = 'White')\n",
    "button_1=Button(root,text='Browse',command= askdirectory)\n",
    "button_2=Button(root,text='Browse',command= askdestination)\n",
    "button_3=Button(root,text='Convert',command= convert)\n",
    "\n",
    "label_1.grid(row=0,sticky=E)\n",
    "label_2.grid(row=1,sticky=E)\n",
    "label_3.grid(row=2,sticky=E)\n",
    "label_4.grid(row=3,sticky=E)\n",
    "entry_1.grid(row=0,column=1)\n",
    "entry_2.grid(row=1,column=1)\n",
    "entry_3.grid(row=2,column=1)\n",
    "entry_4.grid(row=3,column=1)\n",
    "button_1.grid(row=0,column=2)\n",
    "button_2.grid(row=2,column=2)\n",
    "button_3.grid(row=4,column=2)\n",
    "t = Text(root,bg='White')\n",
    "t.grid(row=5,column=0,columnspan=3)\n"
   ]
  },
  {
   "cell_type": "code",
   "execution_count": 5,
   "metadata": {},
   "outputs": [],
   "source": [
    "root.mainloop()"
   ]
  }
 ],
 "metadata": {
  "kernelspec": {
   "display_name": "Python 3",
   "language": "python",
   "name": "python3"
  },
  "language_info": {
   "codemirror_mode": {
    "name": "ipython",
    "version": 3
   },
   "file_extension": ".py",
   "mimetype": "text/x-python",
   "name": "python",
   "nbconvert_exporter": "python",
   "pygments_lexer": "ipython3",
   "version": "3.6.5"
  }
 },
 "nbformat": 4,
 "nbformat_minor": 2
}
