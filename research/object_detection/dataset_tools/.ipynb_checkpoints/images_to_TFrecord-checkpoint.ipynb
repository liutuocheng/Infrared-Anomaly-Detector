{
 "cells": [
  {
   "cell_type": "code",
   "execution_count": 1,
   "metadata": {},
   "outputs": [],
   "source": [
    "import os\n",
    "import re\n",
    "import tensorflow as tf\n",
    "import numpy as np\n",
    "from PIL import Image"
   ]
  },
  {
   "cell_type": "code",
   "execution_count": 2,
   "metadata": {},
   "outputs": [],
   "source": [
    "#set path and names here\n",
    "workplace = 'D:/TTC/rainbow3'\n",
    "image_path = 'D:/TTC/rainbow3/1000_negatives'\n",
    "path_tfrecord = workplace+'/tf_record'+'/'\n",
    "record_name = \"1kn_images.record\""
   ]
  },
  {
   "cell_type": "code",
   "execution_count": null,
   "metadata": {},
   "outputs": [],
   "source": []
  },
  {
   "cell_type": "code",
   "execution_count": 3,
   "metadata": {},
   "outputs": [
    {
     "name": "stdout",
     "output_type": "stream",
     "text": [
      "D:/TTC/rainbow3/tf_record/  *** Start Converting ***\n",
      "100 images converted\n",
      "200 images converted\n",
      "300 images converted\n",
      "400 images converted\n",
      "500 images converted\n",
      "600 images converted\n",
      "700 images converted\n",
      "800 images converted\n",
      "900 images converted\n"
     ]
    }
   ],
   "source": [
    "if not os.path.exists(path_tfrecord):\n",
    "    os.makedirs(path_tfrecord)\n",
    "print(path_tfrecord+\"  *** Start Converting ***\")\n",
    "f = open(path_tfrecord+'fileQueue', 'w')\n",
    "writer1 = tf.python_io.TFRecordWriter(path_tfrecord+record_name)\n",
    "for idx,img in enumerate(sorted(os.listdir(image_path),key=lambda var:[int(x) if x.isdigit() else x for x in re.findall(r'[^0-9]|[0-9]+', var)])):\n",
    "    if idx % 100 == 0 and idx>0:\n",
    "        print(str(idx)+' images converted')\n",
    "    b = img.encode()\n",
    "    f.writelines(img+'\\n')\n",
    "    this_path = image_path+'/'+img\n",
    "    fid = tf.gfile.GFile(this_path, 'rb')\n",
    "    encoded_jpg = fid.read()\n",
    "    example = tf.train.Example(\n",
    "        features=tf.train.Features(\n",
    "            feature={\n",
    "                \"label\": tf.train.Feature(bytes_list=tf.train.BytesList(value=[img.encode('utf8')])),\n",
    "                \"image/encoded\": tf.train.Feature(bytes_list=tf.train.BytesList(value=[encoded_jpg]))}\n",
    "            )\n",
    "    )\n",
    "    writer1.write(example.SerializeToString())\n",
    "writer1.close()\n",
    "f.close()\n",
    "print(path_tfrecord+\"  *** Done! ***\")"
   ]
  },
  {
   "cell_type": "code",
   "execution_count": 4,
   "metadata": {},
   "outputs": [
    {
     "data": {
      "text/plain": [
       "bytes_list {\n",
       "  value: \"05_SB_16031.jpg\"\n",
       "}"
      ]
     },
     "execution_count": 4,
     "metadata": {},
     "output_type": "execute_result"
    }
   ],
   "source": [
    "#name of last image processed\n",
    "example.features.feature['label']"
   ]
  }
 ],
 "metadata": {
  "kernelspec": {
   "display_name": "Python 3",
   "language": "python",
   "name": "python3"
  },
  "language_info": {
   "codemirror_mode": {
    "name": "ipython",
    "version": 3
   },
   "file_extension": ".py",
   "mimetype": "text/x-python",
   "name": "python",
   "nbconvert_exporter": "python",
   "pygments_lexer": "ipython3",
   "version": "3.6.5"
  }
 },
 "nbformat": 4,
 "nbformat_minor": 2
}
